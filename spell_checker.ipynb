{
 "cells": [
  {
   "cell_type": "markdown",
   "id": "7e11cc8c",
   "metadata": {},
   "source": [
    "# Spell Checker From Scratch"
   ]
  },
  {
   "cell_type": "markdown",
   "id": "5ae0f615",
   "metadata": {},
   "source": [
    "## Importing Necessary Libraries"
   ]
  },
  {
   "cell_type": "code",
   "execution_count": 1,
   "id": "6424527a",
   "metadata": {},
   "outputs": [],
   "source": [
    "import re\n",
    "from collections import Counter"
   ]
  },
  {
   "cell_type": "markdown",
   "id": "f055c33a",
   "metadata": {},
   "source": [
    "## Implementing Spell Checker Class"
   ]
  },
  {
   "cell_type": "code",
   "execution_count": 2,
   "id": "b2b746f1",
   "metadata": {},
   "outputs": [],
   "source": [
    "class SpellChecker(object):\n",
    "    def __init__(self, txt_file_path):\n",
    "        with open(txt_file_path, 'r') as f:\n",
    "            data = f.read()\n",
    "        self.words = re.findall(r'\\w+', data.lower())\n",
    "        self.vocabulary = set(self.words)\n",
    "        self.word_count_dict = Counter(self.words)\n",
    "    \n",
    "    def delete(self, word):\n",
    "        return [word[:i] + word[i+1:] for i in range(0, len(word))]\n",
    "    \n",
    "    def replace(self, word):\n",
    "        alphabet = \"abcdefghijklmnopqrstuvwxyz\"\n",
    "        return [word[:i] + letter + word[i+1:] for i in range(len(word)) for letter in alphabet]\n",
    "    \n",
    "    def insert(self, word):\n",
    "        alphabet = \"abcdefghijklmnopqrstuvwxyz\"\n",
    "        return [word[:i] + letter + word[i:] for i in range(len(word) + 1) for letter in alphabet]\n",
    "    \n",
    "    def edit_one_letter(self, word):\n",
    "        edit_one_set = set()\n",
    "        edit_one_set.update(self.insert(word))\n",
    "        edit_one_set.update(self.delete(word))\n",
    "        edit_one_set.update(self.replace(word))\n",
    "        return edit_one_set\n",
    "    \n",
    "    def edit_two_letters(self, word):\n",
    "        edit_two_set = set()\n",
    "        edit_one_set = self.edit_one_letter(word)\n",
    "        for w in edit_one_set:\n",
    "            edit_two_set.update(self.edit_one_letter(w))\n",
    "        return edit_two_set\n",
    "    \n",
    "    \n",
    "    def levenshtein_distance(self, suggestion, target):\n",
    "        m = len(suggestion)\n",
    "        n = len(target)\n",
    "        distance_matrix = [[0] * (n + 1) for i in range(m + 1)]  \n",
    "\n",
    "        # initial distance matrix\n",
    "        for i in range(1, m + 1):\n",
    "            distance_matrix[i][0] = i\n",
    "        for j in range(1, n + 1):\n",
    "            distance_matrix[0][j] = j\n",
    "    \n",
    "        for j in range(1, n + 1):\n",
    "            for i in range(1, m + 1):\n",
    "                if suggestion[i - 1] == target[j - 1]:\n",
    "                    cost = 0\n",
    "                else:\n",
    "                    cost = 1\n",
    "                distance_matrix[i][j] = min(distance_matrix[i - 1][j] + 1,        # deletion\n",
    "                                            distance_matrix[i][j - 1] + 1,        # insertion\n",
    "                                            distance_matrix[i - 1][j - 1] + cost) # substitution   \n",
    "\n",
    "        return distance_matrix[m][n]\n",
    "\n",
    "    \n",
    "    def auto_correct(self, word):\n",
    "        if word in self.vocabulary:\n",
    "            print(f\"The word {word} spelling is correct.\")\n",
    "        else:\n",
    "            total_word_count = float(sum(self.word_count_dict.values()))\n",
    "            word_probs_dict = {word : self.word_count_dict[word] / total_word_count for word in self.word_count_dict.keys()}\n",
    "            all_possible_candidates = self.edit_one_letter(word).union(self.edit_two_letters(word))\n",
    "            meaningful_words = [candidate for candidate in all_possible_candidates if candidate in self.vocabulary]\n",
    "            word_cost_dict = {candidate:self.levenshtein_distance(candidate, word) for candidate in meaningful_words}\n",
    "            suggestions = {candidate:word_probs_dict[candidate] for candidate in word_cost_dict.keys() if word_cost_dict[candidate] == min(word_cost_dict.values())}\n",
    "            return sorted(suggestions.items(), key=lambda item: item[1], reverse=True)"
   ]
  },
  {
   "cell_type": "markdown",
   "id": "f0220123",
   "metadata": {},
   "source": [
    "## Print Results"
   ]
  },
  {
   "cell_type": "code",
   "execution_count": 3,
   "id": "c0a26751",
   "metadata": {},
   "outputs": [
    {
     "data": {
      "text/plain": [
       "[('him', 0.0057977269457632),\n",
       " ('am', 0.0021915311945523426),\n",
       " ('had', 0.0016880065218433798),\n",
       " ('has', 0.0004028197381671702),\n",
       " ('ha', 0.00022059176137725987),\n",
       " ('harm', 0.0001342732460557234),\n",
       " ('hap', 5.754567688102431e-05),\n",
       " ('dam', 4.795473073418693e-05),\n",
       " ('hat', 4.3159257660768235e-05),\n",
       " ('hag', 2.8772838440512156e-05),\n",
       " ('hum', 1.4386419220256078e-05),\n",
       " ('hay', 9.590946146837385e-06),\n",
       " ('ram', 9.590946146837385e-06),\n",
       " ('kam', 4.795473073418693e-06),\n",
       " ('hams', 4.795473073418693e-06),\n",
       " ('hai', 4.795473073418693e-06),\n",
       " ('sham', 4.795473073418693e-06)]"
      ]
     },
     "execution_count": 3,
     "metadata": {},
     "output_type": "execute_result"
    }
   ],
   "source": [
    "sc = SpellChecker('./text.txt')\n",
    "sc.auto_correct('ham')"
   ]
  }
 ],
 "metadata": {
  "kernelspec": {
   "display_name": "Python 3 (ipykernel)",
   "language": "python",
   "name": "python3"
  },
  "language_info": {
   "codemirror_mode": {
    "name": "ipython",
    "version": 3
   },
   "file_extension": ".py",
   "mimetype": "text/x-python",
   "name": "python",
   "nbconvert_exporter": "python",
   "pygments_lexer": "ipython3",
   "version": "3.11.5"
  },
  "toc": {
   "base_numbering": 1,
   "nav_menu": {},
   "number_sections": true,
   "sideBar": true,
   "skip_h1_title": false,
   "title_cell": "Table of Contents",
   "title_sidebar": "Contents",
   "toc_cell": false,
   "toc_position": {},
   "toc_section_display": true,
   "toc_window_display": false
  }
 },
 "nbformat": 4,
 "nbformat_minor": 5
}
